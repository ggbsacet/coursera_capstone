{
 "cells": [
  {
   "cell_type": "markdown",
   "metadata": {},
   "source": [
    "#  Introduction\n",
    "\n",
    "Mumbai and Delhi are two major cities in India. Delhi is national capital of India while Mumbai is very well known as economic captial of India. Both cities are very popular in world for jobs, tourism, livelihood etc. Lots of people come around these cities to make career in these. \n",
    "\n",
    "## Problem Statement\n",
    "\n",
    "We will study area classification using Foursquare API data and ML segmentation and clustering. The aim is to segment areas of Delhi and Mumbai based on the most common places captured from Foursquare in India which can help someone to identify place according to their needs, interests for residence.\n",
    "\n",
    "Using segmentation and clustering, we hope we can determine:\n",
    "\n",
    "1) the similarity or dissimilarirty of both cities\n",
    "2) Area classificaotion located inside the city whether it is residential, tourism places, or others"
   ]
  },
  {
   "cell_type": "markdown",
   "metadata": {},
   "source": [
    "# Data\n",
    "\n",
    "We needed the data for each city. We acquired the areas and picodes from following two links.\n",
    "\n",
    "-- For Mumbai (https://www.mapsofindia.com/pincode/india/maharashtra/mumbai/)\n",
    "\n",
    "-- For Delhi (https://www.whatsuplife.in/delhi/blog/zip-pin-postal-code-pincodes-delhi/)\n",
    "\n",
    "These HTML pages will be parsed to fetch the area pincodes and will be converted to csv. \n",
    "\n",
    "Data is in form of Area along with their Pincodes for each city. We will further fetch the lattitude and longitude for each areas and store to a DataFrame for analysis and also to a separate CSV file to avoid scrapping again.\n",
    "\n",
    "This data (Area, Pincode, City, Latitude, Longitude) will be help to identify common places using FS API."
   ]
  },
  {
   "cell_type": "markdown",
   "metadata": {},
   "source": [
    "### Following is a sample of dataframe for Mumbai City with latitude and logntidue"
   ]
  },
  {
   "cell_type": "markdown",
   "metadata": {},
   "source": [
    "<img src='mumbai1.PNG'>"
   ]
  },
  {
   "cell_type": "markdown",
   "metadata": {},
   "source": [
    "### Following is the sample of dataframe for Delhi City"
   ]
  },
  {
   "cell_type": "markdown",
   "metadata": {},
   "source": [
    "<img src='delhi1.PNG'>"
   ]
  },
  {
   "cell_type": "markdown",
   "metadata": {},
   "source": [
    "# Methodology\n",
    "\n",
    "Above, we have done convert addresses into their equivalent latitude and longitude values.\n",
    "Then we will use the Foursquare API to explore neighborhoods in both cities, Mumbai and Delhi\n",
    "\n",
    "After that, explore function to get the most common venue categories in each neighborhood,\n",
    "and then use this feature to group the neighborhoods into clusters\n",
    "\n",
    "K-means clustering algorithm will be use to complete this task. And also, the Folium library to visualize the neighborhoods in Mumbai and Delhi and their emerging clusters.\n",
    "\n",
    "Based on dataframe analysis above, we found out that 400001 area in Mumbai and 110001 area in Delhi are both have the highest number of area within cities."
   ]
  },
  {
   "cell_type": "markdown",
   "metadata": {},
   "source": [
    "### Following is the list of different Venues and Categories found for 400001"
   ]
  },
  {
   "cell_type": "markdown",
   "metadata": {},
   "source": [
    "<img src='mumbai_venue.png'>"
   ]
  },
  {
   "cell_type": "markdown",
   "metadata": {},
   "source": [
    "### Following is the list of different venues and cateogries found for 110001"
   ]
  },
  {
   "cell_type": "markdown",
   "metadata": {},
   "source": [
    "<img src='delhi_venue.png'>"
   ]
  },
  {
   "cell_type": "markdown",
   "metadata": {},
   "source": [
    "## Analysing the Mumbai and Delhi area to get most common places by Foursquare API"
   ]
  },
  {
   "cell_type": "markdown",
   "metadata": {},
   "source": [
    "## Mumbai - 4000001"
   ]
  },
  {
   "cell_type": "markdown",
   "metadata": {},
   "source": [
    "<img src='mumbai_ana.png'>"
   ]
  },
  {
   "cell_type": "markdown",
   "metadata": {},
   "source": [
    "<img src='mumbai_cluster.png'>"
   ]
  },
  {
   "cell_type": "markdown",
   "metadata": {},
   "source": [
    "<img src='mumbai_cluster_map.png'>"
   ]
  },
  {
   "cell_type": "markdown",
   "metadata": {},
   "source": [
    "## Delhi - 110001"
   ]
  },
  {
   "cell_type": "markdown",
   "metadata": {},
   "source": [
    "<img src='delhi_ana.png'>"
   ]
  },
  {
   "cell_type": "markdown",
   "metadata": {},
   "source": [
    "<img src='delhi_cluster.png'>"
   ]
  },
  {
   "cell_type": "markdown",
   "metadata": {},
   "source": [
    "<img src='delhi_cluster_map.png'>"
   ]
  },
  {
   "cell_type": "markdown",
   "metadata": {},
   "source": [
    "<img src='result_1.png'>"
   ]
  },
  {
   "cell_type": "markdown",
   "metadata": {},
   "source": [
    "<img src='result_2.png'>"
   ]
  },
  {
   "cell_type": "markdown",
   "metadata": {},
   "source": [
    "<img src='result_3.png'>"
   ]
  },
  {
   "cell_type": "markdown",
   "metadata": {},
   "source": [
    "<img src='result_4.png'>"
   ]
  },
  {
   "cell_type": "markdown",
   "metadata": {},
   "source": [
    "# Discussion\n",
    "\n",
    "Based on cluster for each cities, we believe that classification for each cluster can be done better with calculation of venues categories (most common) in each cities. Refering to each clsuter, we can't deterimine clearly what represent in each cluster by using Foursquare - Most Common Venue data.\n",
    "\n",
    "However, for the sae of this project we assumed each cluster as follow:\n",
    "\n",
    "-- Cluster 1: Mumbai: Tourism\n",
    "-- Cluster 2: Mumbai: Residental\n",
    "-- Cluster 3: Mumbai: Mix\n",
    "-- ster 1: Delhi: Residental\n",
    "-- ster 2: Delhi: Tourism\n",
    "-- ster 3: Delhi: Sport\n",
    "\n",
    "It is tough to identify most common venues as recorded in Foursquare. The reality is however more complex: similar cities might have or might not have similar common venues. A further step in this classification would be to find a method to extract these common venues and integrate the spatial correlations between different of areas or district.\n",
    "\n",
    "We believe that the classification we propose is an encouraging step towards a quantitative and systematic comparison of the different cities. Further studies are indeed needed in order to relate the data acquired, then observe it to more meaningful and objective results."
   ]
  },
  {
   "cell_type": "markdown",
   "metadata": {},
   "source": [
    "# Conclusion\n",
    "\n",
    "Using Foursquare API, we can captured data of common places all around the world. Using it, we refer back to our main objectives, which is to determine;\n",
    "\n",
    "the similarity or dissimilarirty of both cities classification of area located inside the city whether it is residential, tourism places, or others In conclusion, both cities Mumbai and Delhi are the center of attraction in India. However, to declare both cities are similar or dissimilar base on common venues visited is quite difficult. \n",
    "\n",
    "Both cities is similar in some venues also dissimilar in certain venues. And for classitification based on common venues, again we must have more systematic or quantitative way to identify and declare this. Comparison can be made, but no such method or quantitative data to determine this. We hope in the future, a method to determine it can be establish and explore for references."
   ]
  },
  {
   "cell_type": "code",
   "execution_count": null,
   "metadata": {},
   "outputs": [],
   "source": []
  },
  {
   "cell_type": "code",
   "execution_count": null,
   "metadata": {},
   "outputs": [],
   "source": []
  }
 ],
 "metadata": {
  "kernelspec": {
   "display_name": "Python 3",
   "language": "python",
   "name": "python3"
  },
  "language_info": {
   "codemirror_mode": {
    "name": "ipython",
    "version": 3
   },
   "file_extension": ".py",
   "mimetype": "text/x-python",
   "name": "python",
   "nbconvert_exporter": "python",
   "pygments_lexer": "ipython3",
   "version": "3.7.1"
  }
 },
 "nbformat": 4,
 "nbformat_minor": 2
}
